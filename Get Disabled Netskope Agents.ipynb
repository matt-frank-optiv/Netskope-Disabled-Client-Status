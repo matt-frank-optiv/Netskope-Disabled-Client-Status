{
 "cells": [
  {
   "cell_type": "code",
   "execution_count": 9,
   "id": "5e6a0da6-bd68-45d0-a768-0afe2a804448",
   "metadata": {},
   "outputs": [],
   "source": [
    "\n",
    "#requires dotenv to store tenant URL and API Key in local .env file\n",
    "\n",
    "from dotenv import load_dotenv\n",
    "import os\n",
    "import requests\n",
    "import json\n",
    "import time\n",
    "import datetime\n",
    "from datetime import datetime \n",
    "import csv\n",
    "\n",
    "#Load variables/secrets from .env\n",
    "load_dotenv()\n",
    "\n",
    "#number of days to return results for from the JSON response\n",
    "range = 7\n",
    "\n",
    "#query NSKP v1 API for client data.  This will return agents that have been disabled, whether by the user, system shutdown, etc.  \n",
    "payload = {'token': os.environ.get('v1_api_key'), 'query': 'last_event.status eq \\'Disabled\\''}\n",
    "r = requests.post(f'https://{os.environ.get(\"ns_tenant\")}.goskope.com/api/v1/clients', verify=True, json=payload)\n",
    "\n",
    "response = json.loads(r.content)\n",
    "clients = response['data']\n",
    "\n",
    "#outputs for JSON results to be read into.\n",
    "disabled = list()\n",
    "disabled_reason = dict()\n",
    "\n",
    "\n",
    "#create CSV header rows\n",
    "disabled.insert(0,['hostname', 'last_event', 'agent_status', 'user_name', 'last_event_date'])    \n",
    "\n",
    "#for each client returned in the JSON result, loop through results to find the devices that have the Netskope ageent disabled and append to the list of devices that match the\n",
    "    #below criteria based on 'range' noted above. \n",
    "for client in clients:\n",
    "     if client['attributes']['last_event']['timestamp'] >= time.time() - 86400 * range:\n",
    "            disabled.append([client['attributes']['_id'], client['attributes']['last_event']['event'], client['attributes']['last_event']['status'], client['attributes']['users'][0]['username'], datetime.fromtimestamp(client['attributes']['last_event']['timestamp'])])            \n",
    "\n",
    "#write results to .csv              \n",
    "file = open('results.csv', 'a+') \n",
    "with file:\n",
    "    write = csv.writer(file)\n",
    "    write.writerows(disabled)\n",
    "    \n",
    "\n",
    "\n",
    "\n"
   ]
  },
  {
   "cell_type": "code",
   "execution_count": null,
   "id": "9436277f",
   "metadata": {},
   "outputs": [],
   "source": []
  },
  {
   "cell_type": "code",
   "execution_count": null,
   "id": "dec3b464",
   "metadata": {},
   "outputs": [],
   "source": []
  },
  {
   "cell_type": "code",
   "execution_count": null,
   "id": "5610d000",
   "metadata": {},
   "outputs": [],
   "source": []
  }
 ],
 "metadata": {
  "kernelspec": {
   "display_name": "Python 3 (ipykernel)",
   "language": "python",
   "name": "python3"
  },
  "language_info": {
   "codemirror_mode": {
    "name": "ipython",
    "version": 3
   },
   "file_extension": ".py",
   "mimetype": "text/x-python",
   "name": "python",
   "nbconvert_exporter": "python",
   "pygments_lexer": "ipython3",
   "version": "3.10.8"
  },
  "vscode": {
   "interpreter": {
    "hash": "7213693b221df81869a656cba9a3a28b79c2eeee161a5b0bfd38731973d227a1"
   }
  }
 },
 "nbformat": 4,
 "nbformat_minor": 5
}
